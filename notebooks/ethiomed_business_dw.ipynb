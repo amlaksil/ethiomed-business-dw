{
  "nbformat": 4,
  "nbformat_minor": 0,
  "metadata": {
    "colab": {
      "provenance": []
    },
    "kernelspec": {
      "name": "python3",
      "display_name": "Python 3"
    },
    "language_info": {
      "name": "python"
    }
  },
  "cells": [
    {
      "cell_type": "code",
      "execution_count": 3,
      "metadata": {
        "id": "nmHDvakn88bf"
      },
      "outputs": [],
      "source": [
        "import pandas as pd"
      ]
    },
    {
      "cell_type": "code",
      "source": [
        "df = pd.read_csv('/content/telegram_data_2024.csv')"
      ],
      "metadata": {
        "id": "AvPNqjKUCBRU"
      },
      "execution_count": 4,
      "outputs": []
    },
    {
      "cell_type": "code",
      "source": [
        "df"
      ],
      "metadata": {
        "colab": {
          "base_uri": "https://localhost:8080/",
          "height": 632
        },
        "id": "w-brlZhxCNYs",
        "outputId": "b113206d-73ba-4111-84f0-831c5f2a160a"
      },
      "execution_count": null,
      "outputs": [
        {
          "output_type": "execute_result",
          "data": {
            "text/plain": [
              "                Channel  Message ID                 Date      Sender ID  \\\n",
              "0     lobelia4cosmetics        8276  2024-03-15 07:08:59 -1001666492664   \n",
              "1     lobelia4cosmetics        8277  2024-03-15 08:43:21 -1001666492664   \n",
              "2     lobelia4cosmetics        8278  2024-03-15 08:43:21 -1001666492664   \n",
              "3     lobelia4cosmetics        8279  2024-03-15 08:43:21 -1001666492664   \n",
              "4     lobelia4cosmetics        8280  2024-03-15 08:43:21 -1001666492664   \n",
              "...                 ...         ...                  ...            ...   \n",
              "1701              EAHCI        2162  2024-06-14 07:43:30 -1001432982009   \n",
              "1702              EAHCI        2163  2024-06-14 19:06:19 -1001432982009   \n",
              "1703              EAHCI        2164  2024-06-15 07:46:02 -1001432982009   \n",
              "1704              EAHCI        2165  2024-06-15 08:14:46 -1001432982009   \n",
              "1705              EAHCI        2166  2024-06-15 08:14:46 -1001432982009   \n",
              "\n",
              "                                        Message Content   Views  Comments  \\\n",
              "0     SMARTY PANTS KIDS VITAMIN \\nPrice 4000\\nTelegr...  2788.0       0.0   \n",
              "1     EMERGEN KIDS VITAMIN C \\nPrice 3000 birr \\nTel...  2287.0       0.0   \n",
              "2     H&B Kids multivitamin + omega3\\nPrice 3200 bir...  1937.0       NaN   \n",
              "3     WELL KID Multivitamin with B complex \\nPrice 2...  1784.0       NaN   \n",
              "4     WELL KID Multivitamin with D3 \\nPrice 2600 bir...  1816.0       NaN   \n",
              "...                                                 ...     ...       ...   \n",
              "1701  💥የሞያ ፈቃድ በቅርቡ ለምታሳድሱ💥               \\n\\n#CPD_(...  6045.0       2.0   \n",
              "1702                                      #For_surgeons   749.0       0.0   \n",
              "1703  💥የሞያ ፈቃድ በቅርቡ ለምታሳድሱ💥               \\n\\n#CPD_(...    64.0       0.0   \n",
              "1704  #💥 2 ቀን ቀረው ሰኞ ይጀምራል እንዳያመልጥዎ💥የግርዛት_ስልጠና_Addis...   355.0       0.0   \n",
              "1705                                                NaN   357.0       NaN   \n",
              "\n",
              "      Reactions  \n",
              "0           NaN  \n",
              "1           NaN  \n",
              "2           NaN  \n",
              "3           NaN  \n",
              "4           NaN  \n",
              "...         ...  \n",
              "1701        1.0  \n",
              "1702        2.0  \n",
              "1703        NaN  \n",
              "1704        2.0  \n",
              "1705        NaN  \n",
              "\n",
              "[1706 rows x 8 columns]"
            ],
            "text/html": [
              "\n",
              "  <div id=\"df-d3f90b0a-a0e6-4472-ab7f-4ac07cb62a74\" class=\"colab-df-container\">\n",
              "    <div>\n",
              "<style scoped>\n",
              "    .dataframe tbody tr th:only-of-type {\n",
              "        vertical-align: middle;\n",
              "    }\n",
              "\n",
              "    .dataframe tbody tr th {\n",
              "        vertical-align: top;\n",
              "    }\n",
              "\n",
              "    .dataframe thead th {\n",
              "        text-align: right;\n",
              "    }\n",
              "</style>\n",
              "<table border=\"1\" class=\"dataframe\">\n",
              "  <thead>\n",
              "    <tr style=\"text-align: right;\">\n",
              "      <th></th>\n",
              "      <th>Channel</th>\n",
              "      <th>Message ID</th>\n",
              "      <th>Date</th>\n",
              "      <th>Sender ID</th>\n",
              "      <th>Message Content</th>\n",
              "      <th>Views</th>\n",
              "      <th>Comments</th>\n",
              "      <th>Reactions</th>\n",
              "    </tr>\n",
              "  </thead>\n",
              "  <tbody>\n",
              "    <tr>\n",
              "      <th>0</th>\n",
              "      <td>lobelia4cosmetics</td>\n",
              "      <td>8276</td>\n",
              "      <td>2024-03-15 07:08:59</td>\n",
              "      <td>-1001666492664</td>\n",
              "      <td>SMARTY PANTS KIDS VITAMIN \\nPrice 4000\\nTelegr...</td>\n",
              "      <td>2788.0</td>\n",
              "      <td>0.0</td>\n",
              "      <td>NaN</td>\n",
              "    </tr>\n",
              "    <tr>\n",
              "      <th>1</th>\n",
              "      <td>lobelia4cosmetics</td>\n",
              "      <td>8277</td>\n",
              "      <td>2024-03-15 08:43:21</td>\n",
              "      <td>-1001666492664</td>\n",
              "      <td>EMERGEN KIDS VITAMIN C \\nPrice 3000 birr \\nTel...</td>\n",
              "      <td>2287.0</td>\n",
              "      <td>0.0</td>\n",
              "      <td>NaN</td>\n",
              "    </tr>\n",
              "    <tr>\n",
              "      <th>2</th>\n",
              "      <td>lobelia4cosmetics</td>\n",
              "      <td>8278</td>\n",
              "      <td>2024-03-15 08:43:21</td>\n",
              "      <td>-1001666492664</td>\n",
              "      <td>H&amp;B Kids multivitamin + omega3\\nPrice 3200 bir...</td>\n",
              "      <td>1937.0</td>\n",
              "      <td>NaN</td>\n",
              "      <td>NaN</td>\n",
              "    </tr>\n",
              "    <tr>\n",
              "      <th>3</th>\n",
              "      <td>lobelia4cosmetics</td>\n",
              "      <td>8279</td>\n",
              "      <td>2024-03-15 08:43:21</td>\n",
              "      <td>-1001666492664</td>\n",
              "      <td>WELL KID Multivitamin with B complex \\nPrice 2...</td>\n",
              "      <td>1784.0</td>\n",
              "      <td>NaN</td>\n",
              "      <td>NaN</td>\n",
              "    </tr>\n",
              "    <tr>\n",
              "      <th>4</th>\n",
              "      <td>lobelia4cosmetics</td>\n",
              "      <td>8280</td>\n",
              "      <td>2024-03-15 08:43:21</td>\n",
              "      <td>-1001666492664</td>\n",
              "      <td>WELL KID Multivitamin with D3 \\nPrice 2600 bir...</td>\n",
              "      <td>1816.0</td>\n",
              "      <td>NaN</td>\n",
              "      <td>NaN</td>\n",
              "    </tr>\n",
              "    <tr>\n",
              "      <th>...</th>\n",
              "      <td>...</td>\n",
              "      <td>...</td>\n",
              "      <td>...</td>\n",
              "      <td>...</td>\n",
              "      <td>...</td>\n",
              "      <td>...</td>\n",
              "      <td>...</td>\n",
              "      <td>...</td>\n",
              "    </tr>\n",
              "    <tr>\n",
              "      <th>1701</th>\n",
              "      <td>EAHCI</td>\n",
              "      <td>2162</td>\n",
              "      <td>2024-06-14 07:43:30</td>\n",
              "      <td>-1001432982009</td>\n",
              "      <td>💥የሞያ ፈቃድ በቅርቡ ለምታሳድሱ💥               \\n\\n#CPD_(...</td>\n",
              "      <td>6045.0</td>\n",
              "      <td>2.0</td>\n",
              "      <td>1.0</td>\n",
              "    </tr>\n",
              "    <tr>\n",
              "      <th>1702</th>\n",
              "      <td>EAHCI</td>\n",
              "      <td>2163</td>\n",
              "      <td>2024-06-14 19:06:19</td>\n",
              "      <td>-1001432982009</td>\n",
              "      <td>#For_surgeons</td>\n",
              "      <td>749.0</td>\n",
              "      <td>0.0</td>\n",
              "      <td>2.0</td>\n",
              "    </tr>\n",
              "    <tr>\n",
              "      <th>1703</th>\n",
              "      <td>EAHCI</td>\n",
              "      <td>2164</td>\n",
              "      <td>2024-06-15 07:46:02</td>\n",
              "      <td>-1001432982009</td>\n",
              "      <td>💥የሞያ ፈቃድ በቅርቡ ለምታሳድሱ💥               \\n\\n#CPD_(...</td>\n",
              "      <td>64.0</td>\n",
              "      <td>0.0</td>\n",
              "      <td>NaN</td>\n",
              "    </tr>\n",
              "    <tr>\n",
              "      <th>1704</th>\n",
              "      <td>EAHCI</td>\n",
              "      <td>2165</td>\n",
              "      <td>2024-06-15 08:14:46</td>\n",
              "      <td>-1001432982009</td>\n",
              "      <td>#💥 2 ቀን ቀረው ሰኞ ይጀምራል እንዳያመልጥዎ💥የግርዛት_ስልጠና_Addis...</td>\n",
              "      <td>355.0</td>\n",
              "      <td>0.0</td>\n",
              "      <td>2.0</td>\n",
              "    </tr>\n",
              "    <tr>\n",
              "      <th>1705</th>\n",
              "      <td>EAHCI</td>\n",
              "      <td>2166</td>\n",
              "      <td>2024-06-15 08:14:46</td>\n",
              "      <td>-1001432982009</td>\n",
              "      <td>NaN</td>\n",
              "      <td>357.0</td>\n",
              "      <td>NaN</td>\n",
              "      <td>NaN</td>\n",
              "    </tr>\n",
              "  </tbody>\n",
              "</table>\n",
              "<p>1706 rows × 8 columns</p>\n",
              "</div>\n",
              "    <div class=\"colab-df-buttons\">\n",
              "\n",
              "  <div class=\"colab-df-container\">\n",
              "    <button class=\"colab-df-convert\" onclick=\"convertToInteractive('df-d3f90b0a-a0e6-4472-ab7f-4ac07cb62a74')\"\n",
              "            title=\"Convert this dataframe to an interactive table.\"\n",
              "            style=\"display:none;\">\n",
              "\n",
              "  <svg xmlns=\"http://www.w3.org/2000/svg\" height=\"24px\" viewBox=\"0 -960 960 960\">\n",
              "    <path d=\"M120-120v-720h720v720H120Zm60-500h600v-160H180v160Zm220 220h160v-160H400v160Zm0 220h160v-160H400v160ZM180-400h160v-160H180v160Zm440 0h160v-160H620v160ZM180-180h160v-160H180v160Zm440 0h160v-160H620v160Z\"/>\n",
              "  </svg>\n",
              "    </button>\n",
              "\n",
              "  <style>\n",
              "    .colab-df-container {\n",
              "      display:flex;\n",
              "      gap: 12px;\n",
              "    }\n",
              "\n",
              "    .colab-df-convert {\n",
              "      background-color: #E8F0FE;\n",
              "      border: none;\n",
              "      border-radius: 50%;\n",
              "      cursor: pointer;\n",
              "      display: none;\n",
              "      fill: #1967D2;\n",
              "      height: 32px;\n",
              "      padding: 0 0 0 0;\n",
              "      width: 32px;\n",
              "    }\n",
              "\n",
              "    .colab-df-convert:hover {\n",
              "      background-color: #E2EBFA;\n",
              "      box-shadow: 0px 1px 2px rgba(60, 64, 67, 0.3), 0px 1px 3px 1px rgba(60, 64, 67, 0.15);\n",
              "      fill: #174EA6;\n",
              "    }\n",
              "\n",
              "    .colab-df-buttons div {\n",
              "      margin-bottom: 4px;\n",
              "    }\n",
              "\n",
              "    [theme=dark] .colab-df-convert {\n",
              "      background-color: #3B4455;\n",
              "      fill: #D2E3FC;\n",
              "    }\n",
              "\n",
              "    [theme=dark] .colab-df-convert:hover {\n",
              "      background-color: #434B5C;\n",
              "      box-shadow: 0px 1px 3px 1px rgba(0, 0, 0, 0.15);\n",
              "      filter: drop-shadow(0px 1px 2px rgba(0, 0, 0, 0.3));\n",
              "      fill: #FFFFFF;\n",
              "    }\n",
              "  </style>\n",
              "\n",
              "    <script>\n",
              "      const buttonEl =\n",
              "        document.querySelector('#df-d3f90b0a-a0e6-4472-ab7f-4ac07cb62a74 button.colab-df-convert');\n",
              "      buttonEl.style.display =\n",
              "        google.colab.kernel.accessAllowed ? 'block' : 'none';\n",
              "\n",
              "      async function convertToInteractive(key) {\n",
              "        const element = document.querySelector('#df-d3f90b0a-a0e6-4472-ab7f-4ac07cb62a74');\n",
              "        const dataTable =\n",
              "          await google.colab.kernel.invokeFunction('convertToInteractive',\n",
              "                                                    [key], {});\n",
              "        if (!dataTable) return;\n",
              "\n",
              "        const docLinkHtml = 'Like what you see? Visit the ' +\n",
              "          '<a target=\"_blank\" href=https://colab.research.google.com/notebooks/data_table.ipynb>data table notebook</a>'\n",
              "          + ' to learn more about interactive tables.';\n",
              "        element.innerHTML = '';\n",
              "        dataTable['output_type'] = 'display_data';\n",
              "        await google.colab.output.renderOutput(dataTable, element);\n",
              "        const docLink = document.createElement('div');\n",
              "        docLink.innerHTML = docLinkHtml;\n",
              "        element.appendChild(docLink);\n",
              "      }\n",
              "    </script>\n",
              "  </div>\n",
              "\n",
              "\n",
              "<div id=\"df-7ba8c0d3-45b8-46ad-9476-76e6067b4651\">\n",
              "  <button class=\"colab-df-quickchart\" onclick=\"quickchart('df-7ba8c0d3-45b8-46ad-9476-76e6067b4651')\"\n",
              "            title=\"Suggest charts\"\n",
              "            style=\"display:none;\">\n",
              "\n",
              "<svg xmlns=\"http://www.w3.org/2000/svg\" height=\"24px\"viewBox=\"0 0 24 24\"\n",
              "     width=\"24px\">\n",
              "    <g>\n",
              "        <path d=\"M19 3H5c-1.1 0-2 .9-2 2v14c0 1.1.9 2 2 2h14c1.1 0 2-.9 2-2V5c0-1.1-.9-2-2-2zM9 17H7v-7h2v7zm4 0h-2V7h2v10zm4 0h-2v-4h2v4z\"/>\n",
              "    </g>\n",
              "</svg>\n",
              "  </button>\n",
              "\n",
              "<style>\n",
              "  .colab-df-quickchart {\n",
              "      --bg-color: #E8F0FE;\n",
              "      --fill-color: #1967D2;\n",
              "      --hover-bg-color: #E2EBFA;\n",
              "      --hover-fill-color: #174EA6;\n",
              "      --disabled-fill-color: #AAA;\n",
              "      --disabled-bg-color: #DDD;\n",
              "  }\n",
              "\n",
              "  [theme=dark] .colab-df-quickchart {\n",
              "      --bg-color: #3B4455;\n",
              "      --fill-color: #D2E3FC;\n",
              "      --hover-bg-color: #434B5C;\n",
              "      --hover-fill-color: #FFFFFF;\n",
              "      --disabled-bg-color: #3B4455;\n",
              "      --disabled-fill-color: #666;\n",
              "  }\n",
              "\n",
              "  .colab-df-quickchart {\n",
              "    background-color: var(--bg-color);\n",
              "    border: none;\n",
              "    border-radius: 50%;\n",
              "    cursor: pointer;\n",
              "    display: none;\n",
              "    fill: var(--fill-color);\n",
              "    height: 32px;\n",
              "    padding: 0;\n",
              "    width: 32px;\n",
              "  }\n",
              "\n",
              "  .colab-df-quickchart:hover {\n",
              "    background-color: var(--hover-bg-color);\n",
              "    box-shadow: 0 1px 2px rgba(60, 64, 67, 0.3), 0 1px 3px 1px rgba(60, 64, 67, 0.15);\n",
              "    fill: var(--button-hover-fill-color);\n",
              "  }\n",
              "\n",
              "  .colab-df-quickchart-complete:disabled,\n",
              "  .colab-df-quickchart-complete:disabled:hover {\n",
              "    background-color: var(--disabled-bg-color);\n",
              "    fill: var(--disabled-fill-color);\n",
              "    box-shadow: none;\n",
              "  }\n",
              "\n",
              "  .colab-df-spinner {\n",
              "    border: 2px solid var(--fill-color);\n",
              "    border-color: transparent;\n",
              "    border-bottom-color: var(--fill-color);\n",
              "    animation:\n",
              "      spin 1s steps(1) infinite;\n",
              "  }\n",
              "\n",
              "  @keyframes spin {\n",
              "    0% {\n",
              "      border-color: transparent;\n",
              "      border-bottom-color: var(--fill-color);\n",
              "      border-left-color: var(--fill-color);\n",
              "    }\n",
              "    20% {\n",
              "      border-color: transparent;\n",
              "      border-left-color: var(--fill-color);\n",
              "      border-top-color: var(--fill-color);\n",
              "    }\n",
              "    30% {\n",
              "      border-color: transparent;\n",
              "      border-left-color: var(--fill-color);\n",
              "      border-top-color: var(--fill-color);\n",
              "      border-right-color: var(--fill-color);\n",
              "    }\n",
              "    40% {\n",
              "      border-color: transparent;\n",
              "      border-right-color: var(--fill-color);\n",
              "      border-top-color: var(--fill-color);\n",
              "    }\n",
              "    60% {\n",
              "      border-color: transparent;\n",
              "      border-right-color: var(--fill-color);\n",
              "    }\n",
              "    80% {\n",
              "      border-color: transparent;\n",
              "      border-right-color: var(--fill-color);\n",
              "      border-bottom-color: var(--fill-color);\n",
              "    }\n",
              "    90% {\n",
              "      border-color: transparent;\n",
              "      border-bottom-color: var(--fill-color);\n",
              "    }\n",
              "  }\n",
              "</style>\n",
              "\n",
              "  <script>\n",
              "    async function quickchart(key) {\n",
              "      const quickchartButtonEl =\n",
              "        document.querySelector('#' + key + ' button');\n",
              "      quickchartButtonEl.disabled = true;  // To prevent multiple clicks.\n",
              "      quickchartButtonEl.classList.add('colab-df-spinner');\n",
              "      try {\n",
              "        const charts = await google.colab.kernel.invokeFunction(\n",
              "            'suggestCharts', [key], {});\n",
              "      } catch (error) {\n",
              "        console.error('Error during call to suggestCharts:', error);\n",
              "      }\n",
              "      quickchartButtonEl.classList.remove('colab-df-spinner');\n",
              "      quickchartButtonEl.classList.add('colab-df-quickchart-complete');\n",
              "    }\n",
              "    (() => {\n",
              "      let quickchartButtonEl =\n",
              "        document.querySelector('#df-7ba8c0d3-45b8-46ad-9476-76e6067b4651 button');\n",
              "      quickchartButtonEl.style.display =\n",
              "        google.colab.kernel.accessAllowed ? 'block' : 'none';\n",
              "    })();\n",
              "  </script>\n",
              "</div>\n",
              "\n",
              "  <div id=\"id_c56544b1-a93b-414e-8fde-d626c17b95df\">\n",
              "    <style>\n",
              "      .colab-df-generate {\n",
              "        background-color: #E8F0FE;\n",
              "        border: none;\n",
              "        border-radius: 50%;\n",
              "        cursor: pointer;\n",
              "        display: none;\n",
              "        fill: #1967D2;\n",
              "        height: 32px;\n",
              "        padding: 0 0 0 0;\n",
              "        width: 32px;\n",
              "      }\n",
              "\n",
              "      .colab-df-generate:hover {\n",
              "        background-color: #E2EBFA;\n",
              "        box-shadow: 0px 1px 2px rgba(60, 64, 67, 0.3), 0px 1px 3px 1px rgba(60, 64, 67, 0.15);\n",
              "        fill: #174EA6;\n",
              "      }\n",
              "\n",
              "      [theme=dark] .colab-df-generate {\n",
              "        background-color: #3B4455;\n",
              "        fill: #D2E3FC;\n",
              "      }\n",
              "\n",
              "      [theme=dark] .colab-df-generate:hover {\n",
              "        background-color: #434B5C;\n",
              "        box-shadow: 0px 1px 3px 1px rgba(0, 0, 0, 0.15);\n",
              "        filter: drop-shadow(0px 1px 2px rgba(0, 0, 0, 0.3));\n",
              "        fill: #FFFFFF;\n",
              "      }\n",
              "    </style>\n",
              "    <button class=\"colab-df-generate\" onclick=\"generateWithVariable('df')\"\n",
              "            title=\"Generate code using this dataframe.\"\n",
              "            style=\"display:none;\">\n",
              "\n",
              "  <svg xmlns=\"http://www.w3.org/2000/svg\" height=\"24px\"viewBox=\"0 0 24 24\"\n",
              "       width=\"24px\">\n",
              "    <path d=\"M7,19H8.4L18.45,9,17,7.55,7,17.6ZM5,21V16.75L18.45,3.32a2,2,0,0,1,2.83,0l1.4,1.43a1.91,1.91,0,0,1,.58,1.4,1.91,1.91,0,0,1-.58,1.4L9.25,21ZM18.45,9,17,7.55Zm-12,3A5.31,5.31,0,0,0,4.9,8.1,5.31,5.31,0,0,0,1,6.5,5.31,5.31,0,0,0,4.9,4.9,5.31,5.31,0,0,0,6.5,1,5.31,5.31,0,0,0,8.1,4.9,5.31,5.31,0,0,0,12,6.5,5.46,5.46,0,0,0,6.5,12Z\"/>\n",
              "  </svg>\n",
              "    </button>\n",
              "    <script>\n",
              "      (() => {\n",
              "      const buttonEl =\n",
              "        document.querySelector('#id_c56544b1-a93b-414e-8fde-d626c17b95df button.colab-df-generate');\n",
              "      buttonEl.style.display =\n",
              "        google.colab.kernel.accessAllowed ? 'block' : 'none';\n",
              "\n",
              "      buttonEl.onclick = () => {\n",
              "        google.colab.notebook.generateWithVariable('df');\n",
              "      }\n",
              "      })();\n",
              "    </script>\n",
              "  </div>\n",
              "\n",
              "    </div>\n",
              "  </div>\n"
            ],
            "application/vnd.google.colaboratory.intrinsic+json": {
              "type": "dataframe",
              "variable_name": "df",
              "summary": "{\n  \"name\": \"df\",\n  \"rows\": 1706,\n  \"fields\": [\n    {\n      \"column\": \"Channel\",\n      \"properties\": {\n        \"dtype\": \"category\",\n        \"num_unique_values\": 3,\n        \"samples\": [\n          \"lobelia4cosmetics\",\n          \"yetenaweg\",\n          \"EAHCI\"\n        ],\n        \"semantic_type\": \"\",\n        \"description\": \"\"\n      }\n    },\n    {\n      \"column\": \"Message ID\",\n      \"properties\": {\n        \"dtype\": \"number\",\n        \"std\": 3408,\n        \"min\": 869,\n        \"max\": 9488,\n        \"num_unique_values\": 1706,\n        \"samples\": [\n          8866,\n          1040,\n          2088\n        ],\n        \"semantic_type\": \"\",\n        \"description\": \"\"\n      }\n    },\n    {\n      \"column\": \"Date\",\n      \"properties\": {\n        \"dtype\": \"object\",\n        \"num_unique_values\": 807,\n        \"samples\": [\n          \"2024-04-20 12:07:32\",\n          \"2024-06-12 08:29:41\",\n          \"2024-05-23 14:00:05\"\n        ],\n        \"semantic_type\": \"\",\n        \"description\": \"\"\n      }\n    },\n    {\n      \"column\": \"Sender ID\",\n      \"properties\": {\n        \"dtype\": \"number\",\n        \"std\": 106330082,\n        \"min\": -1001666492664,\n        \"max\": -1001432982009,\n        \"num_unique_values\": 3,\n        \"samples\": [\n          -1001666492664,\n          -1001447066276,\n          -1001432982009\n        ],\n        \"semantic_type\": \"\",\n        \"description\": \"\"\n      }\n    },\n    {\n      \"column\": \"Message Content\",\n      \"properties\": {\n        \"dtype\": \"category\",\n        \"num_unique_values\": 548,\n        \"samples\": [\n          \"Checking out from Ethio Health Exhibition \\nThank you to all our incredible volunteers and partners! \\n\\nSpecial recognition to @health_ethio for partnering with @YetenaW team to your highly attended health exhibition and congress! \\n\\nThank you @EngenderHealth as always for supporting our initiatives and volunteers\",\n          \"NATURES BOUNTY 400 SOFTGELS 5000 IU\\nPrice 7000 birr \\nTelegram https://t.me/lobelia4cosmetics\\nMsg\\ud83d\\udc49 Lobelia pharmacy and cosmetics \\n\\u260e\\ufe0f call 0911562031/0911587703\\nAdress:- Infront of Bole Medhanialem high school \\nOpen Monday - Monday from 8am until midnight \\u12a8\\u1230\\u129e - \\u12a5\\u1235\\u12a8 \\u1230\\u129e\\u00a0 \\u12a8\\u1327\\u1271 2:00 \\u1235\\u12d3\\u1275 - \\u12a5\\u1235\\u12a8 \\u121d\\u123d\\u1271 6:00 \\u1230\\u12d3\\u1275\\n\\ud83c\\udfcd\\ud83c\\udfcd\\ud83c\\udfcd \\u12e8\\u1275\\u122b\\u1295\\u1235\\u1356\\u122d\\u1275 \\u12a0\\u121b\\u122b\\u132d \\u12a870 - 200 \\u1265\\u122d\\nFor delivery option fees are from 70 birr - 200 birr\",\n          \"**\\u1218\\u120d\\u12ab\\u121d \\u12e8\\u1234\\u1276\\u127d \\u1240\\u1295!**\"\n        ],\n        \"semantic_type\": \"\",\n        \"description\": \"\"\n      }\n    },\n    {\n      \"column\": \"Views\",\n      \"properties\": {\n        \"dtype\": \"number\",\n        \"std\": 4257.536989982976,\n        \"min\": 64.0,\n        \"max\": 44204.0,\n        \"num_unique_values\": 1264,\n        \"samples\": [\n          2940.0,\n          1104.0,\n          1089.0\n        ],\n        \"semantic_type\": \"\",\n        \"description\": \"\"\n      }\n    },\n    {\n      \"column\": \"Comments\",\n      \"properties\": {\n        \"dtype\": \"number\",\n        \"std\": 1.8708656221321187,\n        \"min\": 0.0,\n        \"max\": 21.0,\n        \"num_unique_values\": 14,\n        \"samples\": [\n          15.0,\n          21.0,\n          0.0\n        ],\n        \"semantic_type\": \"\",\n        \"description\": \"\"\n      }\n    },\n    {\n      \"column\": \"Reactions\",\n      \"properties\": {\n        \"dtype\": \"number\",\n        \"std\": 2.989294984414497,\n        \"min\": 0.0,\n        \"max\": 22.0,\n        \"num_unique_values\": 17,\n        \"samples\": [\n          12.0,\n          2.0,\n          4.0\n        ],\n        \"semantic_type\": \"\",\n        \"description\": \"\"\n      }\n    }\n  ]\n}"
            }
          },
          "metadata": {},
          "execution_count": 4
        }
      ]
    },
    {
      "cell_type": "code",
      "source": [
        "df.columns"
      ],
      "metadata": {
        "colab": {
          "base_uri": "https://localhost:8080/"
        },
        "id": "bzqk4QBECObl",
        "outputId": "55388e04-aab2-490c-8ed2-b4ad88f099e2"
      },
      "execution_count": null,
      "outputs": [
        {
          "output_type": "execute_result",
          "data": {
            "text/plain": [
              "Index(['Channel', 'Message ID', 'Date', 'Sender ID', 'Message Content',\n",
              "       'Views', 'Comments', 'Reactions'],\n",
              "      dtype='object')"
            ]
          },
          "metadata": {},
          "execution_count": 5
        }
      ]
    },
    {
      "cell_type": "code",
      "source": [
        "df.dtypes"
      ],
      "metadata": {
        "colab": {
          "base_uri": "https://localhost:8080/"
        },
        "id": "kRIrMe-CC02h",
        "outputId": "202cc16a-6cb1-481b-cbed-917b11a1f32f"
      },
      "execution_count": 5,
      "outputs": [
        {
          "output_type": "execute_result",
          "data": {
            "text/plain": [
              "Channel             object\n",
              "Message ID           int64\n",
              "Date                object\n",
              "Sender ID            int64\n",
              "Message Content     object\n",
              "Views              float64\n",
              "Comments           float64\n",
              "Reactions          float64\n",
              "dtype: object"
            ]
          },
          "metadata": {},
          "execution_count": 5
        }
      ]
    },
    {
      "cell_type": "code",
      "source": [
        "df.isnull().sum()"
      ],
      "metadata": {
        "colab": {
          "base_uri": "https://localhost:8080/"
        },
        "id": "kLRGBjsiC4qY",
        "outputId": "81ca0ac7-3517-45de-d328-0150f6862c74"
      },
      "execution_count": null,
      "outputs": [
        {
          "output_type": "execute_result",
          "data": {
            "text/plain": [
              "Channel               0\n",
              "Message ID            0\n",
              "Date                  0\n",
              "Sender ID             0\n",
              "Message Content     198\n",
              "Views                75\n",
              "Comments           1110\n",
              "Reactions          1397\n",
              "dtype: int64"
            ]
          },
          "metadata": {},
          "execution_count": 7
        }
      ]
    },
    {
      "cell_type": "markdown",
      "source": [
        "#  Data Cleaning"
      ],
      "metadata": {
        "id": "I0l8CxbcFJ9C"
      }
    },
    {
      "cell_type": "code",
      "source": [
        "# Check for duplicates across all columns\n",
        "duplicates = df.duplicated()\n",
        "duplicates"
      ],
      "metadata": {
        "colab": {
          "base_uri": "https://localhost:8080/"
        },
        "collapsed": true,
        "id": "lMeBV_Z4Fzex",
        "outputId": "8b51a6dc-d2d6-495d-9a64-29a5d80dd578"
      },
      "execution_count": null,
      "outputs": [
        {
          "output_type": "execute_result",
          "data": {
            "text/plain": [
              "0       False\n",
              "1       False\n",
              "2       False\n",
              "3       False\n",
              "4       False\n",
              "        ...  \n",
              "1701    False\n",
              "1702    False\n",
              "1703    False\n",
              "1704    False\n",
              "1705    False\n",
              "Length: 1706, dtype: bool"
            ]
          },
          "metadata": {},
          "execution_count": 11
        }
      ]
    },
    {
      "cell_type": "code",
      "source": [
        "duplicates.sum()"
      ],
      "metadata": {
        "colab": {
          "base_uri": "https://localhost:8080/"
        },
        "id": "pRCVcwHuEHBe",
        "outputId": "72d142f2-a4c7-43d3-dd69-387718050fa9"
      },
      "execution_count": null,
      "outputs": [
        {
          "output_type": "execute_result",
          "data": {
            "text/plain": [
              "0"
            ]
          },
          "metadata": {},
          "execution_count": 12
        }
      ]
    },
    {
      "cell_type": "code",
      "source": [
        "df = df.drop_duplicates()"
      ],
      "metadata": {
        "id": "grNz-TQOGDAT"
      },
      "execution_count": null,
      "outputs": []
    },
    {
      "cell_type": "markdown",
      "source": [
        "### Handling Missing Values"
      ],
      "metadata": {
        "id": "zWL4UHO2GMEy"
      }
    },
    {
      "cell_type": "code",
      "source": [
        "df['Message Content'] = df['Message Content'].fillna('No Content')"
      ],
      "metadata": {
        "id": "7O276sOUGa3D"
      },
      "execution_count": 6,
      "outputs": []
    },
    {
      "cell_type": "code",
      "source": [
        "df['Views'] = df['Views'].fillna(0)"
      ],
      "metadata": {
        "id": "L7iBztoHGi9c"
      },
      "execution_count": 7,
      "outputs": []
    },
    {
      "cell_type": "code",
      "source": [
        "df['Comments'] = df['Comments'].fillna(0)"
      ],
      "metadata": {
        "id": "wG5tn5r-GmEs"
      },
      "execution_count": 8,
      "outputs": []
    },
    {
      "cell_type": "code",
      "source": [
        "df['Reactions'] = df['Reactions'].fillna(0)"
      ],
      "metadata": {
        "id": "e5BP51lZGQZ0"
      },
      "execution_count": 9,
      "outputs": []
    },
    {
      "cell_type": "code",
      "source": [
        "df.isnull().sum()"
      ],
      "metadata": {
        "colab": {
          "base_uri": "https://localhost:8080/"
        },
        "id": "fY4sZjC_GreI",
        "outputId": "4408a7e5-9005-4bee-fa4e-24a2f9eb3882"
      },
      "execution_count": 10,
      "outputs": [
        {
          "output_type": "execute_result",
          "data": {
            "text/plain": [
              "Channel            0\n",
              "Message ID         0\n",
              "Date               0\n",
              "Sender ID          0\n",
              "Message Content    0\n",
              "Views              0\n",
              "Comments           0\n",
              "Reactions          0\n",
              "dtype: int64"
            ]
          },
          "metadata": {},
          "execution_count": 10
        }
      ]
    },
    {
      "cell_type": "markdown",
      "source": [
        "### Standardizing Formats"
      ],
      "metadata": {
        "id": "Uy3_IMQUGyc9"
      }
    },
    {
      "cell_type": "code",
      "source": [
        "df['Date'] = pd.to_datetime(df['Date'])"
      ],
      "metadata": {
        "id": "xEn5J3dWGtje"
      },
      "execution_count": 11,
      "outputs": []
    },
    {
      "cell_type": "markdown",
      "source": [
        "### Data Validation"
      ],
      "metadata": {
        "id": "OmdEqbObG_CB"
      }
    },
    {
      "cell_type": "code",
      "source": [
        "# Ensure 'Views', 'Comments', and 'Reactions' are non-negative.\n",
        "df = df[(df['Views'] >= 0) & (df['Comments'] >= 0) & (df['Reactions'] >= 0)]"
      ],
      "metadata": {
        "id": "z55KkEYCHGc2"
      },
      "execution_count": 12,
      "outputs": []
    },
    {
      "cell_type": "markdown",
      "source": [
        "### Storing Cleaned Data"
      ],
      "metadata": {
        "id": "reRWSKYCHjBN"
      }
    },
    {
      "cell_type": "code",
      "source": [
        "df.to_csv('/content/cleaned_data.csv', index=False)"
      ],
      "metadata": {
        "id": "OUTHDEMOHSut"
      },
      "execution_count": 13,
      "outputs": []
    }
  ]
}